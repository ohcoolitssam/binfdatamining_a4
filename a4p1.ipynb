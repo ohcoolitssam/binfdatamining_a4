{
 "cells": [
  {
   "cell_type": "code",
   "execution_count": 4,
   "metadata": {},
   "outputs": [],
   "source": [
    "#created and edited by Samuel Phillips\n",
    "\n",
    "#imports for data, classes and more\n",
    "from sklearn.datasets import load_iris\n",
    "from pandas import DataFrame\n",
    "import numpy as np\n",
    "from sklearn.model_selection import LeaveOneOut\n",
    "from sklearn.neural_network import MLPClassifier"
   ]
  },
  {
   "cell_type": "code",
   "execution_count": 5,
   "metadata": {},
   "outputs": [
    {
     "name": "stdout",
     "output_type": "stream",
     "text": [
      "ANN Average Error Rate: 0.04\n"
     ]
    }
   ],
   "source": [
    "#iris data is loaded\n",
    "iris = load_iris()\n",
    "iData = iris.data\n",
    "\n",
    "#data is collected from the iris dataset\n",
    "X = iris.data[50:]\n",
    "y = iris.target[50:]\n",
    "\n",
    "#leave one out is used to split the data from above\n",
    "ol = LeaveOneOut()\n",
    "num_cases = ol.get_n_splits(X)\n",
    "ttsi = ol.split(X)\n",
    "\n",
    "#error rates list is created to hold all the averages of the error rates\n",
    "error_rates = []\n",
    "\n",
    "#train test cycle that cycles through 100 times with the MLP classifier\n",
    "train_test_cycle = 1\n",
    "for train_index, test_index in ttsi:\n",
    "    X_train = X[train_index]\n",
    "    X_test = X[test_index]\n",
    "    y_train = y[train_index]\n",
    "    y_test = y[test_index]\n",
    "    clf = MLPClassifier(random_state=1, hidden_layer_sizes=50, max_iter=1000).fit(X_train, y_train)\n",
    "    p1 = clf.predict(X_test)\n",
    "    \n",
    "    vals = []\n",
    "    \n",
    "    for z in range(0, len(p1)):\n",
    "        if p1[z] == y_test[z]:\n",
    "            vals.append(0)\n",
    "\n",
    "        elif p1[z] != y_test[z]:\n",
    "            vals.append(1)\n",
    "    \n",
    "    error_rates.append(np.mean(vals))\n",
    "    \n",
    "    train_test_cycle += 1\n",
    "    \n",
    "#overall ANN average error rates is calculated and printed\n",
    "print('ANN Average Error Rate: ' + str(np.average(error_rates)))"
   ]
  },
  {
   "cell_type": "code",
   "execution_count": null,
   "metadata": {},
   "outputs": [],
   "source": []
  }
 ],
 "metadata": {
  "kernelspec": {
   "display_name": "Python 3",
   "language": "python",
   "name": "python3"
  },
  "language_info": {
   "codemirror_mode": {
    "name": "ipython",
    "version": 3
   },
   "file_extension": ".py",
   "mimetype": "text/x-python",
   "name": "python",
   "nbconvert_exporter": "python",
   "pygments_lexer": "ipython3",
   "version": "3.8.5"
  }
 },
 "nbformat": 4,
 "nbformat_minor": 4
}
