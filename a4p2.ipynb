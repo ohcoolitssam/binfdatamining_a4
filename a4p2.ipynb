{
 "cells": [
  {
   "cell_type": "code",
   "execution_count": 23,
   "metadata": {},
   "outputs": [],
   "source": [
    "#created and edited by Samuel Phillips\n",
    "\n",
    "#imports for data, classes and more\n",
    "from sklearn.datasets import load_iris\n",
    "from pandas import DataFrame\n",
    "import numpy as np\n",
    "from sklearn.model_selection import LeaveOneOut\n",
    "from sklearn.tree import DecisionTreeClassifier\n",
    "from sklearn.neighbors import KNeighborsClassifier"
   ]
  },
  {
   "cell_type": "code",
   "execution_count": 29,
   "metadata": {},
   "outputs": [
    {
     "name": "stdout",
     "output_type": "stream",
     "text": [
      "Decision Tree Average Error Rate: 0.09\n",
      "KNN Average Error Rate: 0.06\n"
     ]
    }
   ],
   "source": [
    "#iris data is loaded\n",
    "iris = load_iris()\n",
    "iData = iris.data\n",
    "\n",
    "#data is collected from the iris dataset\n",
    "X = iris.data[50:]\n",
    "y = iris.target[50:]\n",
    "\n",
    "#leave one out is used to split the data from above\n",
    "ol = LeaveOneOut()\n",
    "num_cases = ol.get_n_splits(X)\n",
    "ttsi = ol.split(X)\n",
    "\n",
    "#empty list to hold error values are created\n",
    "e1 = []\n",
    "e2 = []\n",
    "\n",
    "#train test cycle that cycles through 100 times with the decision tree classifier and\n",
    "#the kneighbors classifier\n",
    "train_test_cycle = 1\n",
    "for train_index, test_index in ttsi:\n",
    "    X_train = X[train_index]\n",
    "    X_test = X[test_index]\n",
    "    y_train = y[train_index]\n",
    "    y_test = y[test_index]\n",
    "    clf = DecisionTreeClassifier().fit(X_train, y_train)\n",
    "    p1 = clf.predict(X_test)\n",
    "\n",
    "    v1 = []\n",
    "    \n",
    "    for z in range(0, len(p1)):\n",
    "        if p1[z] == y_test[z]:\n",
    "            v1.append(0)\n",
    "\n",
    "        elif p1[z] != y_test[z]:\n",
    "            v1.append(1)\n",
    "    \n",
    "    e1.append(np.mean(v1))\n",
    "    \n",
    "    clf = KNeighborsClassifier(n_neighbors=3).fit(X_train, y_train)\n",
    "    p2 = clf.predict(X_test)\n",
    "\n",
    "    v2 = []\n",
    "    \n",
    "    for z in range(0, len(p1)):\n",
    "        if p2[z] == y_test[z]:\n",
    "            v2.append(0)\n",
    "\n",
    "        elif p2[z] != y_test[z]:\n",
    "            v2.append(1)\n",
    "    \n",
    "    e2.append(np.mean(v2))\n",
    "    \n",
    "    train_test_cycle += 1\n",
    "    \n",
    "\n",
    "#overall Decision Tree Average average error rates is calculated and printed\n",
    "print('Decision Tree Average Error Rate: ' + str(np.average(e1)))\n",
    "\n",
    "#overall KNN average error rates is calculated and printed\n",
    "print('KNN Average Error Rate: ' + str(np.average(e2)))"
   ]
  },
  {
   "cell_type": "code",
   "execution_count": null,
   "metadata": {},
   "outputs": [],
   "source": []
  },
  {
   "cell_type": "code",
   "execution_count": null,
   "metadata": {},
   "outputs": [],
   "source": []
  },
  {
   "cell_type": "code",
   "execution_count": null,
   "metadata": {},
   "outputs": [],
   "source": []
  }
 ],
 "metadata": {
  "kernelspec": {
   "display_name": "Python 3",
   "language": "python",
   "name": "python3"
  },
  "language_info": {
   "codemirror_mode": {
    "name": "ipython",
    "version": 3
   },
   "file_extension": ".py",
   "mimetype": "text/x-python",
   "name": "python",
   "nbconvert_exporter": "python",
   "pygments_lexer": "ipython3",
   "version": "3.8.5"
  }
 },
 "nbformat": 4,
 "nbformat_minor": 4
}
